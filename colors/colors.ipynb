{
 "cells": [
  {
   "cell_type": "code",
   "execution_count": 1,
   "id": "a0c598c0-38af-4765-a405-2787ad2de2e8",
   "metadata": {
    "tags": []
   },
   "outputs": [
    {
     "name": "stdout",
     "output_type": "stream",
     "text": [
      "CUDA is enabled.\n"
     ]
    }
   ],
   "source": [
    "import torch\n",
    "import torch.nn.functional as F\n",
    "import matplotlib.pyplot as plt\n",
    "%matplotlib inline\n",
    "if torch.cuda.is_available():\n",
    "    print(\"CUDA is enabled.\")\n",
    "    torch.device(\"cuda\")"
   ]
  },
  {
   "cell_type": "code",
   "execution_count": 2,
   "id": "1956f910-24ce-4ceb-92e3-1a70e6284790",
   "metadata": {
    "tags": []
   },
   "outputs": [
    {
     "name": "stdout",
     "output_type": "stream",
     "text": [
      "['Black', 'Blue', 'Brown', 'Green', 'Grey', 'Orange', 'Pink', 'Purple', 'Red', 'White', 'Yellow'] 1\n"
     ]
    }
   ],
   "source": [
    "rgb = []\n",
    "colors = []\n",
    "categories = []\n",
    "for data in open(\"labels.csv\", \"r\").read().splitlines()[1:]:\n",
    "    r, g, b, label = data.split(\",\")\n",
    "    rgb.append((float(r)/255, float(g)/255, float(b)/255))\n",
    "    colors.append(label)\n",
    "\n",
    "categories = sorted(list(set(colors)))\n",
    "colors_enc = [categories.index(c) for c in colors]\n",
    "print(categories, colors_enc[0])"
   ]
  },
  {
   "cell_type": "code",
   "execution_count": 13,
   "id": "bafbe148-dfd4-406b-874a-383fa4d6894d",
   "metadata": {
    "tags": []
   },
   "outputs": [
    {
     "name": "stdout",
     "output_type": "stream",
     "text": [
      "torch.Size([5052, 3]) torch.Size([5052, 11])\n"
     ]
    }
   ],
   "source": [
    "# Initialization\n",
    "\n",
    "inputs = torch.tensor(rgb).float()\n",
    "labels = F.one_hot(torch.tensor(colors_enc)).float()\n",
    "print(inputs.shape, labels.shape)\n",
    "\n",
    "hidden_layer_dim = 50\n",
    "\n",
    "W1 = torch.randn((3, hidden_layer_dim)) * 0.4 # * (5/3)/(3**0.5)\n",
    "B1 = torch.randn((hidden_layer_dim)) * 0.1\n",
    "W2 = torch.randn((hidden_layer_dim, labels.shape[1])) * 0.01\n",
    "\n",
    "# BatchNorm parameters\n",
    "bngain = torch.ones((1, hidden_layer_dim))\n",
    "bnbias = torch.zeros((1, hidden_layer_dim))\n",
    "bnmean_running = torch.zeros((1, hidden_layer_dim))\n",
    "bnstd_running = torch.ones((1, hidden_layer_dim))\n",
    "\n",
    "parameters = [W1, B1, W2, bngain, bnbias]\n",
    "for p in parameters:\n",
    "    p.requires_grad = True"
   ]
  },
  {
   "cell_type": "code",
   "execution_count": 14,
   "id": "78a3174e-5675-4bea-8af1-f4e47953acd9",
   "metadata": {
    "tags": []
   },
   "outputs": [
    {
     "name": "stdout",
     "output_type": "stream",
     "text": [
      "tensor(2.3977, grad_fn=<DivBackward1>)\n",
      "tensor(1.7539, grad_fn=<DivBackward1>)\n",
      "tensor(1.7363, grad_fn=<DivBackward1>)\n",
      "tensor(1.7299, grad_fn=<DivBackward1>)\n",
      "tensor(1.7267, grad_fn=<DivBackward1>)\n",
      "tensor(1.7246, grad_fn=<DivBackward1>)\n",
      "tensor(1.7232, grad_fn=<DivBackward1>)\n",
      "tensor(1.7222, grad_fn=<DivBackward1>)\n",
      "tensor(1.7213, grad_fn=<DivBackward1>)\n",
      "tensor(1.7212, grad_fn=<DivBackward1>)\n"
     ]
    }
   ],
   "source": [
    "for i in range(100000):\n",
    "    hpreact = inputs @ W1 + B1\n",
    "    bnmeani = hpreact.mean(0, keepdim=True)\n",
    "    bnstdi = hpreact.std(0, keepdim=True)\n",
    "    hpreact = bngain * (hpreact - bnmeani) / bnstdi + bnbias\n",
    "    with torch.no_grad():\n",
    "        bnmean_running = 0.999 * bnmean_running + 0.001 * bnmeani\n",
    "        bnstd_running = 0.999 * bnstd_running + 0.001 * bnstdi\n",
    "    h = torch.tanh(hpreact) # hidden layer\n",
    "    logits = h @ W2\n",
    "    loss = F.cross_entropy(logits.softmax(dim=1), labels)\n",
    "\n",
    "    if i % 10000 == 0:\n",
    "        print(loss)\n",
    "    \n",
    "    for p in parameters:\n",
    "        p.grad = None\n",
    "    loss.backward()\n",
    "    lr = 0.1 if i < 80000 else 0.01\n",
    "    for p in parameters:\n",
    "        p.data += -lr * p.grad\n",
    "    \n",
    "    # break"
   ]
  },
  {
   "cell_type": "code",
   "execution_count": 15,
   "id": "745937b0",
   "metadata": {},
   "outputs": [
    {
     "data": {
      "image/png": "[encoded data removed]",
      "text/plain": [
       "<Figure size 640x480 with 1 Axes>"
      ]
     },
     "metadata": {},
     "output_type": "display_data"
    }
   ],
   "source": [
    "plt.hist(h.view(-1).tolist(), 50);"
   ]
  },
  {
   "cell_type": "code",
   "execution_count": null,
   "id": "15cfc2b4-06c3-46c4-a01b-628531c652d3",
   "metadata": {
    "tags": []
   },
   "outputs": [
    {
     "name": "stdout",
     "output_type": "stream",
     "text": [
      "tensor([[ 1.0000,  0.9549,  0.9983, -0.9902, -0.2624,  0.9999, -0.9923,  0.6749,\n",
      "          0.9536,  0.9970,  0.9998]], grad_fn=<TanhBackward0>)\n"
     ]
    },
    {
     "data": {
      "text/plain": [
       "tensor([[0.1222, 0.1168, 0.1220, 0.0167, 0.0346, 0.1222, 0.0167, 0.0883, 0.1167,\n",
       "         0.1218, 0.1222]], grad_fn=<SoftmaxBackward0>)"
      ]
     },
     "execution_count": 21,
     "metadata": {},
     "output_type": "execute_result"
    }
   ],
   "source": [
    "color = torch.tensor([255,0,0]).float()\n",
    "hpreact = color @ W1\n",
    "hpreact = bngain * (hpreact - bnmean_running) / bnstd_running + bnbias\n",
    "h = torch.tanh(hpreact)\n",
    "logits = torch.tanh(h @ W2)\n",
    "print(logits)\n",
    "logits.softmax(dim=1)"
   ]
  },
  {
   "cell_type": "code",
   "execution_count": 16,
   "id": "2e9084ce-87ad-4abd-bcbb-23f79f7649ef",
   "metadata": {
    "tags": []
   },
   "outputs": [],
   "source": [
    "with torch.no_grad():\n",
    "  # pass the training set through\n",
    "  hpreact = inputs @ W1 # + b1\n",
    "  # measure the mean/std over the entire training set\n",
    "  bnmean = hpreact.mean(0, keepdim=True)\n",
    "  bnstd = hpreact.std(0, keepdim=True)"
   ]
  },
  {
   "cell_type": "code",
   "execution_count": 17,
   "id": "90ae780f-14b5-42c1-a5d7-97c9d5931123",
   "metadata": {
    "tags": []
   },
   "outputs": [
    {
     "ename": "RuntimeError",
     "evalue": "a Tensor with 11 elements cannot be converted to Scalar",
     "output_type": "error",
     "traceback": [
      "\u001b[0;31m---------------------------------------------------------------------------\u001b[0m",
      "\u001b[0;31mRuntimeError\u001b[0m                              Traceback (most recent call last)",
      "Cell \u001b[0;32mIn[17], line 9\u001b[0m\n\u001b[1;32m      7\u001b[0m \u001b[39m# print(logits)\u001b[39;00m\n\u001b[1;32m      8\u001b[0m probs \u001b[39m=\u001b[39m logits\u001b[39m.\u001b[39msoftmax(dim\u001b[39m=\u001b[39m\u001b[39m0\u001b[39m)\n\u001b[0;32m----> 9\u001b[0m \u001b[39mprint\u001b[39m(\u001b[39m\"\u001b[39m\u001b[39m\\n\u001b[39;00m\u001b[39m\"\u001b[39m\u001b[39m.\u001b[39mjoin([\u001b[39mf\u001b[39m\u001b[39m\"\u001b[39m\u001b[39m{\u001b[39;00mcategories[i]\u001b[39m}\u001b[39;00m\u001b[39m: \u001b[39m\u001b[39m{\u001b[39;00mp\u001b[39m.\u001b[39mitem()\u001b[39m:\u001b[39;00m\u001b[39m.4f\u001b[39m\u001b[39m}\u001b[39;00m\u001b[39m\"\u001b[39m \u001b[39mfor\u001b[39;00m i, p \u001b[39min\u001b[39;00m \u001b[39menumerate\u001b[39m(probs)]))\n\u001b[1;32m     10\u001b[0m \u001b[39mprint\u001b[39m(categories[torch\u001b[39m.\u001b[39margmax(probs)])\n\u001b[1;32m     11\u001b[0m plt\u001b[39m.\u001b[39mpie([\u001b[39m1\u001b[39m], colors\u001b[39m=\u001b[39m[color]);\n",
      "Cell \u001b[0;32mIn[17], line 9\u001b[0m, in \u001b[0;36m<listcomp>\u001b[0;34m(.0)\u001b[0m\n\u001b[1;32m      7\u001b[0m \u001b[39m# print(logits)\u001b[39;00m\n\u001b[1;32m      8\u001b[0m probs \u001b[39m=\u001b[39m logits\u001b[39m.\u001b[39msoftmax(dim\u001b[39m=\u001b[39m\u001b[39m0\u001b[39m)\n\u001b[0;32m----> 9\u001b[0m \u001b[39mprint\u001b[39m(\u001b[39m\"\u001b[39m\u001b[39m\\n\u001b[39;00m\u001b[39m\"\u001b[39m\u001b[39m.\u001b[39mjoin([\u001b[39mf\u001b[39m\u001b[39m\"\u001b[39m\u001b[39m{\u001b[39;00mcategories[i]\u001b[39m}\u001b[39;00m\u001b[39m: \u001b[39m\u001b[39m{\u001b[39;00mp\u001b[39m.\u001b[39mitem()\u001b[39m:\u001b[39;00m\u001b[39m.4f\u001b[39m\u001b[39m}\u001b[39;00m\u001b[39m\"\u001b[39m \u001b[39mfor\u001b[39;00m i, p \u001b[39min\u001b[39;00m \u001b[39menumerate\u001b[39m(probs)]))\n\u001b[1;32m     10\u001b[0m \u001b[39mprint\u001b[39m(categories[torch\u001b[39m.\u001b[39margmax(probs)])\n\u001b[1;32m     11\u001b[0m plt\u001b[39m.\u001b[39mpie([\u001b[39m1\u001b[39m], colors\u001b[39m=\u001b[39m[color]);\n",
      "\u001b[0;31mRuntimeError\u001b[0m: a Tensor with 11 elements cannot be converted to Scalar"
     ]
    }
   ],
   "source": [
    "with torch.no_grad():\n",
    "  color = torch.tensor([0,255,0]).float() / 255\n",
    "  hpreact = color @ W1 + B1\n",
    "  hpreact = bngain * (hpreact - bnmean_running) / bnstd_running + bnbias\n",
    "  h = torch.tanh(hpreact)\n",
    "  logits = h @ W2\n",
    "  # print(logits)\n",
    "  probs = logits.softmax(dim=0)\n",
    "  print(\"\\n\".join([f\"{categories[i]}: {p.item():.4f}\" for i, p in enumerate(probs)]))\n",
    "  print(categories[torch.argmax(probs)])\n",
    "  plt.pie([1], colors=[color]);\n",
    "  plt.pie(probs, labels=categories, colors=categories);"
   ]
  }
 ],
 "metadata": {
  "kernelspec": {
   "display_name": "Python 3 (ipykernel)",
   "language": "python",
   "name": "python3"
  },
  "language_info": {
   "codemirror_mode": {
    "name": "ipython",
    "version": 3
   },
   "file_extension": ".py",
   "mimetype": "text/x-python",
   "name": "python",
   "nbconvert_exporter": "python",
   "pygments_lexer": "ipython3",
   "version": "3.8.10"
  }
 },
 "nbformat": 4,
 "nbformat_minor": 5
}
