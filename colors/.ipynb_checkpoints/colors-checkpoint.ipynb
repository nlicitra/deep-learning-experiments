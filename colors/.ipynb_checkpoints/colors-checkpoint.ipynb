{
 "cells": [
  {
   "cell_type": "code",
   "execution_count": 3,
   "id": "a0c598c0-38af-4765-a405-2787ad2de2e8",
   "metadata": {
    "tags": []
   },
   "outputs": [],
   "source": [
    "import torch\n",
    "import torch.nn.functional as F\n",
    "if torch.cuda.is_available():\n",
    "    torch.device(\"cuda\")"
   ]
  },
  {
   "cell_type": "code",
   "execution_count": 31,
   "id": "1956f910-24ce-4ceb-92e3-1a70e6284790",
   "metadata": {
    "tags": []
   },
   "outputs": [
    {
     "name": "stdout",
     "output_type": "stream",
     "text": [
      "['Black', 'Blue', 'Brown', 'Green', 'Grey', 'Orange', 'Pink', 'Purple', 'Red', 'White', 'Yellow'] Blue\n"
     ]
    }
   ],
   "source": [
    "rgb = []\n",
    "colors = []\n",
    "categories = []\n",
    "for data in open(\"labels.csv\", \"r\").read().splitlines()[1:]:\n",
    "    r, g, b, label = data.split(\",\")\n",
    "    rgb.append((float(r)/255, float(g)/255, float(b)/255))\n",
    "    colors.append(label)\n",
    "\n",
    "categories = sorted(list(set(colors)))\n",
    "colors_enc = [categories.index(c) for c in colors]\n",
    "print(categories, colors[0])"
   ]
  },
  {
   "cell_type": "code",
   "execution_count": 51,
   "id": "bafbe148-dfd4-406b-874a-383fa4d6894d",
   "metadata": {
    "tags": []
   },
   "outputs": [
    {
     "name": "stdout",
     "output_type": "stream",
     "text": [
      "torch.Size([5052, 3]) torch.Size([5052, 11])\n"
     ]
    }
   ],
   "source": [
    "inputs = torch.tensor(rgb).float()\n",
    "labels = F.one_hot(torch.tensor(colors_enc)).float()\n",
    "\n",
    "hidden_layer_dim = 50\n",
    "\n",
    "W1 = torch.randn((3, hidden_layer_dim)) * (5/3)/(3**0.5)\n",
    "W2 = torch.randn((hidden_layer_dim, labels.shape[1]))\n",
    "print(inputs.shape, labels.shape)\n",
    "\n",
    "parameters = [W1, W2]\n",
    "for p in parameters:\n",
    "    p.requires_grad = True"
   ]
  },
  {
   "cell_type": "code",
   "execution_count": 52,
   "id": "78a3174e-5675-4bea-8af1-f4e47953acd9",
   "metadata": {
    "tags": []
   },
   "outputs": [
    {
     "name": "stdout",
     "output_type": "stream",
     "text": [
      "tensor(2.4015, grad_fn=<DivBackward1>)\n",
      "tensor(2.2546, grad_fn=<DivBackward1>)\n",
      "tensor(2.2517, grad_fn=<DivBackward1>)\n",
      "tensor(2.2506, grad_fn=<DivBackward1>)\n",
      "tensor(2.2491, grad_fn=<DivBackward1>)\n",
      "tensor(2.2484, grad_fn=<DivBackward1>)\n",
      "tensor(2.2480, grad_fn=<DivBackward1>)\n",
      "tensor(2.2476, grad_fn=<DivBackward1>)\n",
      "tensor(2.2474, grad_fn=<DivBackward1>)\n",
      "tensor(2.2471, grad_fn=<DivBackward1>)\n"
     ]
    }
   ],
   "source": [
    "for i in range(10000):\n",
    "    h = torch.tanh(inputs @ W1)\n",
    "    logits = torch.tanh(h @ W2)\n",
    "    loss = F.cross_entropy(logits.softmax(dim=1), labels)\n",
    "\n",
    "    if i % 1000 == 0:\n",
    "        print(loss)\n",
    "    \n",
    "    for p in parameters:\n",
    "        p.grad = None\n",
    "    loss.backward()\n",
    "    for p in parameters:\n",
    "        p.data -= 10 * p.grad"
   ]
  },
  {
   "cell_type": "code",
   "execution_count": 53,
   "id": "90ae780f-14b5-42c1-a5d7-97c9d5931123",
   "metadata": {
    "tags": []
   },
   "outputs": [
    {
     "name": "stdout",
     "output_type": "stream",
     "text": [
      "tensor([ 1.0000, -0.9559, -1.0000, -0.6170, -1.0000,  1.0000,  0.9993, -1.0000,\n",
      "        -1.0000, -1.0000,  1.0000], grad_fn=<TanhBackward0>)\n"
     ]
    },
    {
     "data": {
      "text/plain": [
       "tensor([0.1994, 0.0282, 0.0270, 0.0396, 0.0270, 0.1994, 0.1992, 0.0270, 0.0270,\n",
       "        0.0270, 0.1994], grad_fn=<SoftmaxBackward0>)"
      ]
     },
     "execution_count": 53,
     "metadata": {},
     "output_type": "execute_result"
    }
   ],
   "source": [
    "color = torch.tensor([255,255,255]).float()\n",
    "h = torch.tanh(color @ W1)\n",
    "logits = torch.tanh(h @ W2)\n",
    "print(logits)\n",
    "logits.softmax(dim=0)"
   ]
  }
 ],
 "metadata": {
  "kernelspec": {
   "display_name": "Python 3 (ipykernel)",
   "language": "python",
   "name": "python3"
  },
  "language_info": {
   "codemirror_mode": {
    "name": "ipython",
    "version": 3
   },
   "file_extension": ".py",
   "mimetype": "text/x-python",
   "name": "python",
   "nbconvert_exporter": "python",
   "pygments_lexer": "ipython3",
   "version": "3.8.10"
  }
 },
 "nbformat": 4,
 "nbformat_minor": 5
}
